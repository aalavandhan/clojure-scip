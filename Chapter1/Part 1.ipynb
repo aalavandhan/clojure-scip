{
 "cells": [
  {
   "cell_type": "markdown",
   "metadata": {},
   "source": [
    "### Expressions and evaluations\n",
    "\n",
    "Function definition\n",
    "\n",
    "```\n",
    "(def name [arguments] (body))\n",
    "```\n",
    "\n",
    "Conditionals\n",
    "\n",
    "```\n",
    "(if (predicate) (consequent) (alternative))\n",
    "```"
   ]
  },
  {
   "cell_type": "code",
   "execution_count": 1,
   "metadata": {},
   "outputs": [
    {
     "data": {
      "text/plain": [
       "#'user/cube"
      ]
     },
     "execution_count": 1,
     "metadata": {},
     "output_type": "execute_result"
    }
   ],
   "source": [
    ";; Globals\n",
    "(defn abs [x] (cond \n",
    "  (< x 0) (- x)\n",
    "  (> x 0) x\n",
    "  :else 0))\n",
    "(defn mean [x,y] ( / (+ x y) 2.0))\n",
    "(defn square [x] (* x x))\n",
    "(defn cube [x] (* x x x))"
   ]
  },
  {
   "cell_type": "code",
   "execution_count": 2,
   "metadata": {},
   "outputs": [
    {
     "data": {
      "text/plain": [
       "109"
      ]
     },
     "execution_count": 2,
     "metadata": {},
     "output_type": "execute_result"
    }
   ],
   "source": [
    ";; Exercise 1.4 \n",
    "(defn top-2-sum-of-squares [x, y, z] \n",
    "    (defn sum-of-squares [x, y] (+ (square x) (square y)))\n",
    "    (cond (and (< x y) (< x z)) (sum-of-squares y, z)\n",
    "        (and (< y x) (< y z)) (sum-of-squares x, z)\n",
    "        :else (sum-of-squares x, y)))\n",
    "(top-2-sum-of-squares 10 2 3)"
   ]
  },
  {
   "cell_type": "code",
   "execution_count": 3,
   "metadata": {},
   "outputs": [
    {
     "name": "stdout",
     "output_type": "stream",
     "text": [
      "1.414213562373095 1.9999999999999996\n"
     ]
    },
    {
     "data": {
      "text/plain": [
       "nil"
      ]
     },
     "execution_count": 3,
     "metadata": {},
     "output_type": "execute_result"
    }
   ],
   "source": [
    ";; SQRT Newton's method\n",
    ";; sqrt(2)\n",
    ";; step1 x = 2, g = 1 => g' = (2/1 + 1)/2 => 1.5\n",
    ";; step2 x = 2, g = 1.5 => g' = (2/1.5 + 1.5)/2 => 1.4167\n",
    ";; step3 x = 2, g = 1.4167 => g' = (2/1.4167 + 1.4167)/2 => 1.4142\n",
    "(defn sqrt [x] \n",
    "    (def n-steps 10)\n",
    "    (defn good-enough? [n] (>= n n-steps))\n",
    "    (defn next-guess [x,g] (mean (/ x g) g))\n",
    "    (defn sqrt-iter [x,g,n] (cond\n",
    "        (good-enough? n) g\n",
    "        :else (recur x (next-guess x g) (+ n 1))))\n",
    "    (sqrt-iter x 1.0 1))\n",
    "\n",
    "(println (sqrt 2.0) (square (sqrt 2.0)))"
   ]
  },
  {
   "cell_type": "code",
   "execution_count": 4,
   "metadata": {},
   "outputs": [
    {
     "name": "stdout",
     "output_type": "stream",
     "text": [
      "1.4142156862745097 2.0000060073048824\n"
     ]
    },
    {
     "data": {
      "text/plain": [
       "nil"
      ]
     },
     "execution_count": 4,
     "metadata": {},
     "output_type": "execute_result"
    }
   ],
   "source": [
    ";; Exercise 1.7\n",
    "(defn sqrt [x] \n",
    "    (def min-change 0.00001)\n",
    "    (defn good-enough? [g,ng] (<= (abs (- ng g)) min-change))\n",
    "    (defn next-guess [x,g] (mean (/ x g) g))\n",
    "    (defn sqrt-iter [x,g] (cond \n",
    "      (good-enough? g (next-guess x g)) g\n",
    "      :else (recur x (next-guess x g)))\n",
    "    )\n",
    "    (sqrt-iter x 1.0))\n",
    "(println (sqrt 2.0) (square (sqrt 2.0)))"
   ]
  },
  {
   "cell_type": "code",
   "execution_count": 5,
   "metadata": {},
   "outputs": [
    {
     "name": "stdout",
     "output_type": "stream",
     "text": [
      "5.00003794283566 125.00284573426943\n",
      "1.4422495703074085 3.000000000000001\n",
      "1.2599210498948732 2.0\n"
     ]
    },
    {
     "data": {
      "text/plain": [
       "nil"
      ]
     },
     "execution_count": 5,
     "metadata": {},
     "output_type": "execute_result"
    }
   ],
   "source": [
    ";; Exercise 1.8\n",
    ";; Newton's cube-root\n",
    "(defn cbrt [x] \n",
    "    (def n-steps 10)\n",
    "    (defn good-enough? [n] (>= n n-steps))\n",
    "    (defn next-guess [x,g]  (/ (+ (/ x (* g g)) (* 2 g)) 3))\n",
    "    (defn cbrt-iter [x,g,n] (cond\n",
    "        (good-enough? n) g\n",
    "        :else (recur x (next-guess x g) (+ n 1))))\n",
    "    (cbrt-iter x 1.0 1))\n",
    "\n",
    "(println (cbrt 125) (cube (cbrt 125)))\n",
    "(println (cbrt 3) (cube (cbrt 3)))\n",
    "(println (cbrt 2) (cube (cbrt 2)))"
   ]
  },
  {
   "cell_type": "code",
   "execution_count": 34,
   "metadata": {},
   "outputs": [
    {
     "name": "stdout",
     "output_type": "stream",
     "text": [
      "120\n"
     ]
    },
    {
     "data": {
      "text/plain": [
       "nil"
      ]
     },
     "execution_count": 34,
     "metadata": {},
     "output_type": "execute_result"
    }
   ],
   "source": [
    ";; Factorial (recursion)\n",
    ";; factorial(x) = x * factorial(x-1)\n",
    "(defn factorial [x] \n",
    "    (if (< x 2) \n",
    "        1 \n",
    "        (* x (factorial (- x 1)))))\n",
    "(println (factorial 5))"
   ]
  }
 ],
 "metadata": {
  "kernelspec": {
   "display_name": "Clojure (clojupyter-v0.2.2-SNAPSHOT@c8fb#)",
   "language": "clojure",
   "name": "clojupyter"
  },
  "language_info": {
   "file_extension": ".clj",
   "mimetype": "text/x-clojure",
   "name": "clojure",
   "version": "1.10.0"
  }
 },
 "nbformat": 4,
 "nbformat_minor": 2
}
