{
 "cells": [
  {
   "cell_type": "markdown",
   "metadata": {},
   "source": [
    "### Expressions and evaluations\n",
    "\n",
    "Function definition\n",
    "\n",
    "```\n",
    "(def name [arguments] (body))\n",
    "```\n",
    "\n",
    "Conditionals\n",
    "\n",
    "```\n",
    "(if (predicate) (consequent) (alternative))\n",
    "```"
   ]
  },
  {
   "cell_type": "code",
   "execution_count": 22,
   "metadata": {},
   "outputs": [
    {
     "ename": "interrupted",
     "evalue": "",
     "output_type": "error",
     "traceback": [
      "  Util.java:   221 clojure.lang.Util/runtimeException                     ",
      "   core.clj:  3214 clojure.core$eval/invokeStatic                         ",
      "   core.clj:  3210 clojure.core$eval/invoke                               ",
      "   main.clj:   414 clojure.main$repl$read_eval_print__9068$fn__9071/invoke",
      "   main.clj:   435 clojure.main$repl$fn__9077/invoke                      ",
      "   main.clj:   345 clojure.main$repl/doInvoke                             ",
      "RestFn.java:  1523 clojure.lang.RestFn/invoke                             ",
      "   AFn.java:    22 clojure.lang.AFn/run                                   ",
      "   AFn.java:    22 clojure.lang.AFn/run                                   ",
      "Thread.java:   844 java.lang.Thread/run                                   "
     ]
    }
   ],
   "source": [
    ";; Exercise 1.4 \n",
    "(defn square [x] (* x x))\n",
    "(defn sum-of-squares [x, y] (+ (square x) (square y)))\n",
    "(defn top-2-sum-of-squares [x, y, z] (cond\n",
    "    (and (< x y) (< x z)) (sum-of-squares y, z)\n",
    "    (and (< y x) (< y z)) (sum-of-squares x, z)\n",
    "    :else (sum-of-squares x, y)\n",
    "))\n",
    "(top-2-sum-of-squares 10 2 3)"
   ]
  },
  {
   "cell_type": "code",
   "execution_count": 25,
   "metadata": {},
   "outputs": [
    {
     "data": {
      "text/plain": [
       "2.0000000000045106"
      ]
     },
     "execution_count": 25,
     "metadata": {},
     "output_type": "execute_result"
    }
   ],
   "source": [
    ";; SQRT Newton's method\n",
    ";; sqrt(2)\n",
    ";; step1 x = 2, g = 1 => g' = (2/1 + 1)/2 => 1.5\n",
    ";; step2 x = 2, g = 1.5 => g' = (2/1.5 + 1.5)/2 => 1.4167\n",
    ";; step3 x = 2, g = 1.4167 => g' = (2/1.4167 + 1.4167)/2 => 1.4142\n",
    "(def n-steps 5)\n",
    "(defn mean [x,y] ( / (+ x y) 2.0))\n",
    "(defn sqrt-iter [x,g,n] (cond\n",
    "    (< n n-steps) (recur x (mean (/ x g) g) (+ n 1))\n",
    "    :else g))\n",
    "(defn sqrt [x] (sqrt-iter x 1.0 1))\n",
    "\n",
    "(sqrt 2.0)\n",
    "(square (sqrt 2.0))"
   ]
  }
 ],
 "metadata": {
  "kernelspec": {
   "display_name": "Clojure (clojupyter-v0.2.2-SNAPSHOT@c8fb#)",
   "language": "clojure",
   "name": "clojupyter"
  },
  "language_info": {
   "file_extension": ".clj",
   "mimetype": "text/x-clojure",
   "name": "clojure",
   "version": "1.10.0"
  }
 },
 "nbformat": 4,
 "nbformat_minor": 2
}
