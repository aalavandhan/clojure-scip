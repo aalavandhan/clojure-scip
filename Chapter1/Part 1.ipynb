{
 "cells": [
  {
   "cell_type": "markdown",
   "metadata": {},
   "source": [
    "### Expressions and evaluations\n",
    "\n",
    "Function definition\n",
    "\n",
    "```\n",
    "(def name [arguments] (body))\n",
    "```\n",
    "\n",
    "Conditionals\n",
    "\n",
    "```\n",
    "(if (predicate) (consequent) (alternative))\n",
    "```"
   ]
  },
  {
   "cell_type": "code",
   "execution_count": 1,
   "metadata": {},
   "outputs": [
    {
     "data": {
      "text/plain": [
       "#'user/decr"
      ]
     },
     "execution_count": 1,
     "metadata": {},
     "output_type": "execute_result"
    }
   ],
   "source": [
    ";; Globals\n",
    "(defn abs [x] (cond \n",
    "  (< x 0) (- x)\n",
    "  (> x 0) x\n",
    "  :else 0))\n",
    "(defn mean [x,y] ( / (+ x y) 2.0))\n",
    "(defn square [x] (* x x))\n",
    "(defn cube [x] (* x x x))\n",
    "(defn incr [x] (+ x 1))\n",
    "(defn decr [x] (- x 1))"
   ]
  },
  {
   "cell_type": "code",
   "execution_count": 2,
   "metadata": {},
   "outputs": [
    {
     "data": {
      "text/plain": [
       "109"
      ]
     },
     "execution_count": 2,
     "metadata": {},
     "output_type": "execute_result"
    }
   ],
   "source": [
    ";; Exercise 1.4 \n",
    "(defn top-2-sum-of-squares [x, y, z] \n",
    "    (defn sum-of-squares [x, y] (+ (square x) (square y)))\n",
    "    (cond (and (< x y) (< x z)) (sum-of-squares y, z)\n",
    "        (and (< y x) (< y z)) (sum-of-squares x, z)\n",
    "        :else (sum-of-squares x, y)))\n",
    "(top-2-sum-of-squares 10 2 3)"
   ]
  },
  {
   "cell_type": "code",
   "execution_count": 3,
   "metadata": {},
   "outputs": [
    {
     "name": "stdout",
     "output_type": "stream",
     "text": [
      "1.414213562373095 1.9999999999999996\n"
     ]
    },
    {
     "data": {
      "text/plain": [
       "nil"
      ]
     },
     "execution_count": 3,
     "metadata": {},
     "output_type": "execute_result"
    }
   ],
   "source": [
    ";; SQRT Newton's method\n",
    ";; sqrt(2)\n",
    ";; step1 x = 2, g = 1 => g' = (2/1 + 1)/2 => 1.5\n",
    ";; step2 x = 2, g = 1.5 => g' = (2/1.5 + 1.5)/2 => 1.4167\n",
    ";; step3 x = 2, g = 1.4167 => g' = (2/1.4167 + 1.4167)/2 => 1.4142\n",
    "(defn sqrt [x] \n",
    "    (def n-steps 10)\n",
    "    (defn good-enough? [n] (>= n n-steps))\n",
    "    (defn next-guess [x,g] (mean (/ x g) g))\n",
    "    (defn sqrt-iter [x,g,n] (cond\n",
    "        (good-enough? n) g\n",
    "        :else (recur x (next-guess x g) (+ n 1))))\n",
    "    (sqrt-iter x 1.0 1))\n",
    "\n",
    "(println (sqrt 2.0) (square (sqrt 2.0)))"
   ]
  },
  {
   "cell_type": "code",
   "execution_count": 4,
   "metadata": {},
   "outputs": [
    {
     "name": "stdout",
     "output_type": "stream",
     "text": [
      "1.4142156862745097 2.0000060073048824\n"
     ]
    },
    {
     "data": {
      "text/plain": [
       "nil"
      ]
     },
     "execution_count": 4,
     "metadata": {},
     "output_type": "execute_result"
    }
   ],
   "source": [
    ";; Exercise 1.7\n",
    "(defn sqrt [x] \n",
    "    (def min-change 0.00001)\n",
    "    (defn good-enough? [g,ng] (<= (abs (- ng g)) min-change))\n",
    "    (defn next-guess [x,g] (mean (/ x g) g))\n",
    "    (defn sqrt-iter [x,g] (cond \n",
    "      (good-enough? g (next-guess x g)) g\n",
    "      :else (recur x (next-guess x g)))\n",
    "    )\n",
    "    (sqrt-iter x 1.0))\n",
    "(println (sqrt 2.0) (square (sqrt 2.0)))"
   ]
  },
  {
   "cell_type": "code",
   "execution_count": 5,
   "metadata": {},
   "outputs": [
    {
     "name": "stdout",
     "output_type": "stream",
     "text": [
      "5.00003794283566 125.00284573426943\n",
      "1.4422495703074085 3.000000000000001\n",
      "1.2599210498948732 2.0\n"
     ]
    },
    {
     "data": {
      "text/plain": [
       "nil"
      ]
     },
     "execution_count": 5,
     "metadata": {},
     "output_type": "execute_result"
    }
   ],
   "source": [
    ";; Exercise 1.8\n",
    ";; Newton's cube-root\n",
    "(defn cbrt [x] \n",
    "    (def n-steps 10)\n",
    "    (defn good-enough? [n] (>= n n-steps))\n",
    "    (defn next-guess [x,g]  (/ (+ (/ x (* g g)) (* 2 g)) 3))\n",
    "    (defn cbrt-iter [x,g,n] (cond\n",
    "        (good-enough? n) g\n",
    "        :else (recur x (next-guess x g) (+ n 1))))\n",
    "    (cbrt-iter x 1.0 1))\n",
    "\n",
    "(println (cbrt 125) (cube (cbrt 125)))\n",
    "(println (cbrt 3) (cube (cbrt 3)))\n",
    "(println (cbrt 2) (cube (cbrt 2)))"
   ]
  },
  {
   "cell_type": "code",
   "execution_count": 6,
   "metadata": {},
   "outputs": [
    {
     "name": "stdout",
     "output_type": "stream",
     "text": [
      "1\n",
      "120\n",
      "3628800\n"
     ]
    },
    {
     "data": {
      "text/plain": [
       "nil"
      ]
     },
     "execution_count": 6,
     "metadata": {},
     "output_type": "execute_result"
    }
   ],
   "source": [
    ";; Factorial (recursion)\n",
    ";; factorial(x) = x * factorial(x-1)\n",
    "(defn fact1 [x] \n",
    "    (if (< x 2) \n",
    "        1 \n",
    "        (* x (fact1 (- x 1)))))\n",
    "(println (fact1 0))\n",
    "(println (fact1 5))\n",
    "(println (fact1 10))"
   ]
  },
  {
   "cell_type": "code",
   "execution_count": 7,
   "metadata": {},
   "outputs": [
    {
     "name": "stdout",
     "output_type": "stream",
     "text": [
      "1\n",
      "120\n",
      "3628800\n"
     ]
    },
    {
     "data": {
      "text/plain": [
       "nil"
      ]
     },
     "execution_count": 7,
     "metadata": {},
     "output_type": "execute_result"
    }
   ],
   "source": [
    ";; Factorial (iteration), expressed as tail recursion\n",
    ";; factorial(x) = 1 . 2 . 3 ... x-1 . x\n",
    "(defn fact2 [x] \n",
    "    (defn incr [a] (+ a 1))\n",
    "    (defn iter [product, counter] (\n",
    "        if (> counter x)\n",
    "            product\n",
    "            (recur (* product counter) (incr counter))))\n",
    "    (iter 1 1))\n",
    "(println (fact2 0))\n",
    "(println (fact2 5))\n",
    "(println (fact2 10))"
   ]
  },
  {
   "cell_type": "code",
   "execution_count": 8,
   "metadata": {},
   "outputs": [
    {
     "name": "stdout",
     "output_type": "stream",
     "text": [
      "1\n",
      "1\n",
      "2\n",
      "3\n",
      "5\n",
      "8\n",
      "13\n",
      "21\n",
      "34\n"
     ]
    },
    {
     "data": {
      "text/plain": [
       "nil"
      ]
     },
     "execution_count": 8,
     "metadata": {},
     "output_type": "execute_result"
    }
   ],
   "source": [
    ";; fibonacci sequence (recursion)\n",
    ";; fibn(n) = fibn(n-1) + fibn(n-2)\n",
    "\n",
    "(defn fibn1 [n] \n",
    "    (cond \n",
    "        (<= n 1) 1\n",
    "        :else (+ (fibn1 (- n 1)) (fibn1 (- n 2)))))\n",
    "\n",
    "\n",
    "(println (fibn1 0))\n",
    "(println (fibn1 1))\n",
    "(println (fibn1 2))\n",
    "(println (fibn1 3))\n",
    "(println (fibn1 4))\n",
    "(println (fibn1 5))\n",
    "(println (fibn1 6))\n",
    "(println (fibn1 7))\n",
    "(println (fibn1 8))"
   ]
  },
  {
   "cell_type": "code",
   "execution_count": 9,
   "metadata": {},
   "outputs": [
    {
     "name": "stdout",
     "output_type": "stream",
     "text": [
      "1\n",
      "1\n",
      "2\n",
      "3\n",
      "5\n",
      "8\n",
      "13\n",
      "21\n",
      "34\n"
     ]
    },
    {
     "data": {
      "text/plain": [
       "nil"
      ]
     },
     "execution_count": 9,
     "metadata": {},
     "output_type": "execute_result"
    }
   ],
   "source": [
    ";; fibonacci sequence (iteration)\n",
    ";; fibn(n) = fibn(n-1) + fibn(n-2)\n",
    "(defn fibn2 [n] \n",
    "    (defn iter [e1, e2, counter] (\n",
    "       if (= counter n) \n",
    "         (+ e1 e2)\n",
    "         (recur (+ e1 e2) e1 (incr counter))))\n",
    "    (iter 0 1 0))\n",
    "\n",
    "(println (fibn2 0))\n",
    "(println (fibn2 1))\n",
    "(println (fibn2 2))\n",
    "(println (fibn2 3))\n",
    "(println (fibn2 4))\n",
    "(println (fibn2 5))\n",
    "(println (fibn2 6))\n",
    "(println (fibn2 7))\n",
    "(println (fibn2 8))"
   ]
  },
  {
   "cell_type": "code",
   "execution_count": 18,
   "metadata": {},
   "outputs": [
    {
     "name": "stdout",
     "output_type": "stream",
     "text": [
      "292\n"
     ]
    },
    {
     "data": {
      "text/plain": [
       "nil"
      ]
     },
     "execution_count": 18,
     "metadata": {},
     "output_type": "execute_result"
    }
   ],
   "source": [
    ";; dynamic programming, change counting\n",
    ";; given 1c, 5c, 10c, 25c, 50c => how many ways can you change x$\n",
    "(defn count-change [amt] \n",
    "    (let [change-list #{1 5 10 25 50}]\n",
    "      (defn count-change-iter [amt, change-list] \n",
    "          (let [valid-list (set (filter (fn [x] (<= x amt)) change-list)) d (first valid-list)]\n",
    "            (cond\n",
    "                (= amt 0) 1\n",
    "                (= d nil) 0  \n",
    "                (< amt 0) 0\n",
    "                :else (+ \n",
    "                    (count-change-iter amt (clojure.set/difference (set valid-list) #{d})) \n",
    "                    (count-change-iter (- amt d) valid-list)))))\n",
    "      (count-change-iter amt change-list)))\n",
    "\n",
    "(println (count-change 100))"
   ]
  }
 ],
 "metadata": {
  "kernelspec": {
   "display_name": "Clojure (clojupyter-v0.2.2-SNAPSHOT@c8fb#)",
   "language": "clojure",
   "name": "clojupyter"
  },
  "language_info": {
   "file_extension": ".clj",
   "mimetype": "text/x-clojure",
   "name": "clojure",
   "version": "1.10.0"
  }
 },
 "nbformat": 4,
 "nbformat_minor": 2
}
