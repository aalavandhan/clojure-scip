{
 "cells": [
  {
   "cell_type": "markdown",
   "metadata": {},
   "source": [
    "### Expressions and evaluations\n",
    "\n",
    "Function definition\n",
    "\n",
    "```\n",
    "(def name [arguments] (body))\n",
    "```\n",
    "\n",
    "Conditionals\n",
    "\n",
    "```\n",
    "(if (predicate) (consequent) (alternative))\n",
    "```"
   ]
  },
  {
   "cell_type": "code",
   "execution_count": 8,
   "metadata": {},
   "outputs": [
    {
     "data": {
      "text/plain": [
       "109"
      ]
     },
     "execution_count": 8,
     "metadata": {},
     "output_type": "execute_result"
    }
   ],
   "source": [
    ";; Exercise 1.4 \n",
    "(defn square [x] (* x x))\n",
    "(defn sum-of-squares [x, y] (+ (square x) (square y)))\n",
    "(defn top-2-sum-of-squares [x, y, z] (cond\n",
    "    (and (< x y) (< x z)) (sum-of-squares y, z)\n",
    "    (and (< y x) (< y z)) (sum-of-squares x, z)\n",
    "    :else (sum-of-squares x, y)\n",
    "))\n",
    "(top-2-sum-of-squares 10 2 3)"
   ]
  }
 ],
 "metadata": {
  "kernelspec": {
   "display_name": "Clojure (clojupyter-v0.2.2-SNAPSHOT@c8fb#)",
   "language": "clojure",
   "name": "clojupyter"
  },
  "language_info": {
   "file_extension": ".clj",
   "mimetype": "text/x-clojure",
   "name": "clojure",
   "version": "1.10.0"
  }
 },
 "nbformat": 4,
 "nbformat_minor": 2
}
